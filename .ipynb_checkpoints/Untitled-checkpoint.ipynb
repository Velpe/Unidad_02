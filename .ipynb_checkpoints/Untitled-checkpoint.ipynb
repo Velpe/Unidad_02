{
 "cells": [
  {
   "cell_type": "markdown",
   "metadata": {},
   "source": [
    "1) El método de bisección sea f una función continua en el intérvalo [a,b]\n",
    "\n",
    "EL teormea del valor intermedio indica que: existe un c tal que f(c)=0 sii f(a)f(b)<0\n",
    "\n",
    "Pseudocódigo: Inputs: 1) f(x) 2) a,b 3) Tolerancia (max 10^-16) 4) Nmax(# máx de iteraciones)\n",
    "\n",
    "Se debe obtener un punto pi=(bi+ai)/2, que es el punto medio del intérvalo [a,b] f(pi){si f(pi)=0 entonces termina, si f(pi) es distinto de 0 entonces se abren dos casos: si sign(f(pi))=sign(f(a)), entonces a=pi y b=b o si sign(f(p1))=sign(f(b)), entonces a=a y b=pi\n",
    "\n",
    "Después se vuelve a realizar el mismo procedimiento.\n",
    "\n",
    "Es recomendable realizar una gráfica de la función para conocer la cantidad de ceros y una noción de cuales serían.\n",
    "\n",
    "Teorema: Suponga que f pertenece al conjunto de funciones continuas en [a,b] y f(a)f(b)<0. < El método de bisección genera una secuencia {pi}desde n=1 hasta infinito, cuyos elementos aproximan a un cero de f(denotado por p) con la característica de que |pi-p|<(b-a)/2^i"
   ]
  },
  {
   "cell_type": "markdown",
   "metadata": {},
   "source": [
    "Vamos a resolver la ecuación x^3+4x^2-10=0 en el intervalo [1,2]"
   ]
  },
  {
   "cell_type": "code",
   "execution_count": null,
   "metadata": {
    "collapsed": true
   },
   "outputs": [],
   "source": [
    "#Definimos la función a resolver\n",
    "\n",
    "def f(x):\n",
    "    value=x**3"
   ]
  }
 ],
 "metadata": {
  "kernelspec": {
   "display_name": "Python 3",
   "language": "python",
   "name": "python3"
  },
  "language_info": {
   "codemirror_mode": {
    "name": "ipython",
    "version": 3
   },
   "file_extension": ".py",
   "mimetype": "text/x-python",
   "name": "python",
   "nbconvert_exporter": "python",
   "pygments_lexer": "ipython3",
   "version": "3.6.3"
  }
 },
 "nbformat": 4,
 "nbformat_minor": 2
}
