{
 "cells": [
  {
   "cell_type": "code",
   "execution_count": null,
   "metadata": {},
   "outputs": [],
   "source": []
  },
  {
   "cell_type": "code",
   "execution_count": 18,
   "metadata": {},
   "outputs": [],
   "source": [
    "import numpy as np"
   ]
  },
  {
   "cell_type": "code",
   "execution_count": 19,
   "metadata": {},
   "outputs": [],
   "source": [
    "#La función a resolver\n",
    "def f(x):\n",
    "    value=2-x+3*np.sin(x)\n",
    "    return value"
   ]
  },
  {
   "cell_type": "code",
   "execution_count": 20,
   "metadata": {},
   "outputs": [],
   "source": [
    "#Inputs\n",
    "p_prev2=0.0\n",
    "p_prev1=5.0\n",
    "tol=1.0e-8\n",
    "error=1.0\n",
    "Nmax=1000\n",
    "iteracion=0"
   ]
  },
  {
   "cell_type": "code",
   "execution_count": 21,
   "metadata": {},
   "outputs": [
    {
     "name": "stdout",
     "output_type": "stream",
     "text": [
      "p_n=1.2695554668714206\t error=3.7304445331285794\t abs(f(p_n))=3.5953516967997410\n",
      "p_n=2.6855271480464618\t error=1.4159716811750411\t abs(f(p_n))=0.6357303507588103\n",
      "p_n=2.9114588057382909\t error=2.0885411942617091\t abs(f(p_n))=0.2271352717951490\n",
      "p_n=2.8519859896524316\t error=0.1664588416059698\t abs(f(p_n))=0.0047398837112076\n",
      "p_n=2.8532017052025060\t error=0.0582571005357848\t abs(f(p_n))=0.0000282700327559\n",
      "p_n=2.8532089551781277\t error=0.0000072499756216\t abs(f(p_n))=0.0000001683200841\n",
      "p_n=2.8532089983445297\t error=0.0582498073937612\t abs(f(p_n))=0.0000000010021697\n",
      "p_n=2.8532089986015405\t error=0.0000000002570109\t abs(f(p_n))=0.0000000000059662\n"
     ]
    }
   ],
   "source": [
    "#El método\n",
    "while error>tol:\n",
    "    p=p_prev1-((p_prev1-p_prev2)*f(p_prev1))/(f(p_prev1)-f(p_prev2))\n",
    "    error=abs(p-p_prev1)\n",
    "    if(f(p)*f(p_prev1)<0):\n",
    "        p_prev2=p_prev1\n",
    "        p_prev1=p\n",
    "    elif(f(p)*f(p_prev1)>0):\n",
    "        p_prev1=p_prev2\n",
    "        p_prev2=p\n",
    "    print(\"p_n=%.16f\\t error=%.16f\\t abs(f(p_n))=%.16f\"%(p,error,abs(f(p))))\n",
    "    if(iteracion>=Nmax):\n",
    "        print(\"El método no converge después de %d iteraciones\"%Nmax)\n",
    "        break"
   ]
  },
  {
   "cell_type": "code",
   "execution_count": null,
   "metadata": {},
   "outputs": [],
   "source": []
  }
 ],
 "metadata": {
  "kernelspec": {
   "display_name": "Python 3",
   "language": "python",
   "name": "python3"
  },
  "language_info": {
   "codemirror_mode": {
    "name": "ipython",
    "version": 3
   },
   "file_extension": ".py",
   "mimetype": "text/x-python",
   "name": "python",
   "nbconvert_exporter": "python",
   "pygments_lexer": "ipython3",
   "version": "3.6.5"
  }
 },
 "nbformat": 4,
 "nbformat_minor": 2
}
