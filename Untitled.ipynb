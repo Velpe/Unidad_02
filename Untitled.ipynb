{
 "cells": [
  {
   "cell_type": "markdown",
   "metadata": {},
   "source": [
    "1) El método de bisección sea f una función continua en el intérvalo [a,b]\n",
    "\n",
    "EL teormea del valor intermedio indica que: existe un c tal que f(c)=0 sii f(a)f(b)<0\n",
    "\n",
    "Pseudocódigo: Inputs: 1) f(x) 2) a,b 3) Tolerancia (max 10^-16) 4) Nmax(# máx de iteraciones)\n",
    "\n",
    "Se debe obtener un punto pi=(bi+ai)/2, que es el punto medio del intérvalo [a,b] f(pi){si f(pi)=0 entonces termina, si f(pi) es distinto de 0 entonces se abren dos casos: si sign(f(pi))=sign(f(a)), entonces a=pi y b=b o si sign(f(p1))=sign(f(b)), entonces a=a y b=pi\n",
    "\n",
    "Después se vuelve a realizar el mismo procedimiento.\n",
    "\n",
    "Es recomendable realizar una gráfica de la función para conocer la cantidad de ceros y una noción de cuales serían.\n",
    "\n",
    "Teorema: Suponga que f pertenece al conjunto de funciones continuas en [a,b] y f(a)f(b)<0. < El método de bisección genera una secuencia {pi}desde n=1 hasta infinito, cuyos elementos aproximan a un cero de f(denotado por p) con la característica de que |pi-p|<(b-a)/2^i"
   ]
  },
  {
   "cell_type": "markdown",
   "metadata": {},
   "source": [
    "Vamos a resolver la ecuación x^3+4x^2-10=0 en el intervalo [1,2]"
   ]
  },
  {
   "cell_type": "markdown",
   "metadata": {},
   "source": [
    "# Funciones auxiliares"
   ]
  },
  {
   "cell_type": "code",
   "execution_count": 2,
   "metadata": {},
   "outputs": [],
   "source": [
    "#Definimos la función a resolver\n",
    "\n",
    "def f(x):\n",
    "    value=x**3+4*x**2-10\n",
    "    return value\n",
    "\n",
    "def sign(x):\n",
    "    if x>0:\n",
    "        return 1\n",
    "    elif(x<0):\n",
    "        return -1\n",
    "    else:\n",
    "        return 0"
   ]
  },
  {
   "cell_type": "markdown",
   "metadata": {},
   "source": [
    "# El Método"
   ]
  },
  {
   "cell_type": "code",
   "execution_count": 17,
   "metadata": {},
   "outputs": [
    {
     "name": "stdout",
     "output_type": "stream",
     "text": [
      "pi=1.250000\t ai=1.000000\t bi=1.500000\t f(pi)=-1.796875\t error=0.200000\n",
      "pi=1.375000\t ai=1.250000\t bi=1.500000\t f(pi)= 0.162109\t error=0.090909\n",
      "pi=1.312500\t ai=1.250000\t bi=1.375000\t f(pi)=-0.848389\t error=0.047619\n",
      "pi=1.343750\t ai=1.312500\t bi=1.375000\t f(pi)=-0.350983\t error=0.023256\n",
      "pi=1.359375\t ai=1.343750\t bi=1.375000\t f(pi)=-0.096409\t error=0.011494\n",
      "pi=1.367188\t ai=1.359375\t bi=1.375000\t f(pi)= 0.032356\t error=0.005714\n",
      "pi=1.363281\t ai=1.359375\t bi=1.367188\t f(pi)=-0.032150\t error=0.002865\n",
      "pi=1.365234\t ai=1.363281\t bi=1.367188\t f(pi)= 0.000072\t error=0.001431\n",
      "pi=1.364258\t ai=1.363281\t bi=1.365234\t f(pi)=-0.016047\t error=0.000716\n",
      "pi=1.364746\t ai=1.364258\t bi=1.365234\t f(pi)=-0.007989\t error=0.000358\n",
      "pi=1.364990\t ai=1.364746\t bi=1.365234\t f(pi)=-0.003959\t error=0.000179\n",
      "pi=1.365112\t ai=1.364990\t bi=1.365234\t f(pi)=-0.001944\t error=0.000089\n",
      "pi=1.365173\t ai=1.365112\t bi=1.365234\t f(pi)=-0.000936\t error=0.000045\n",
      "pi=1.365204\t ai=1.365173\t bi=1.365234\t f(pi)=-0.000432\t error=0.000022\n",
      "pi=1.365219\t ai=1.365204\t bi=1.365234\t f(pi)=-0.000180\t error=0.000011\n",
      "pi=1.365227\t ai=1.365219\t bi=1.365234\t f(pi)=-0.000054\t error=0.000006\n",
      "pi=1.365231\t ai=1.365227\t bi=1.365234\t f(pi)= 0.000009\t error=0.000003\n",
      "pi=1.365229\t ai=1.365227\t bi=1.365231\t f(pi)=-0.000022\t error=0.000001\n",
      "pi=1.365230\t ai=1.365229\t bi=1.365231\t f(pi)=-0.000007\t error=0.000001\n",
      "pi=1.365230\t ai=1.365230\t bi=1.365231\t f(pi)= 0.000001\t error=0.000000\n",
      "pi=1.365230\t ai=1.365230\t bi=1.365230\t f(pi)=-0.000003\t error=0.000000\n",
      "pi=1.365230\t ai=1.365230\t bi=1.365230\t f(pi)=-0.000001\t error=0.000000\n",
      "pi=1.365230\t ai=1.365230\t bi=1.365230\t f(pi)= 0.000000\t error=0.000000\n",
      "pi=1.365230\t ai=1.365230\t bi=1.365230\t f(pi)=-0.000000\t error=0.000000\n",
      "pi=1.365230\t ai=1.365230\t bi=1.365230\t f(pi)=-0.000000\t error=0.000000\n",
      "pi=1.365230\t ai=1.365230\t bi=1.365230\t f(pi)= 0.000000\t error=0.000000\n",
      "pi=1.365230\t ai=1.365230\t bi=1.365230\t f(pi)=-0.000000\t error=0.000000\n",
      "pi=1.365230\t ai=1.365230\t bi=1.365230\t f(pi)= 0.000000\t error=0.000000\n",
      "pi=1.365230\t ai=1.365230\t bi=1.365230\t f(pi)= 0.000000\t error=0.000000\n",
      "pi=1.365230\t ai=1.365230\t bi=1.365230\t f(pi)=-0.000000\t error=0.000000\n",
      "pi=1.365230\t ai=1.365230\t bi=1.365230\t f(pi)=-0.000000\t error=0.000000\n",
      "pi=1.365230\t ai=1.365230\t bi=1.365230\t f(pi)= 0.000000\t error=0.000000\n"
     ]
    }
   ],
   "source": [
    "#LOngitud inicial del intervalo\n",
    "\n",
    "ai=1.0\n",
    "bi=2.0\n",
    "#Tolerancia\n",
    "tol=1.0e-10\n",
    "\n",
    "#error inicial\n",
    "error=1.0\n",
    "\n",
    "#Número máximo de iteraciones\n",
    "Nmax=1000\n",
    "iteracion=0\n",
    "\n",
    "#Verificación del teorema del valor intermedio\n",
    "\n",
    "if(sign(f(a))*sign(f(b))<0):\n",
    "    while(error>tol):\n",
    "        pi=0.5*(ai+bi)\n",
    "        pi_previo=pi\n",
    "        if(abs(f(pi))<tol):\n",
    "            print(\"La raíz del polinomio es %.5f\"%(pi))\n",
    "        else:\n",
    "            if(sign(f(pi))==sign(f(ai))):\n",
    "                ai=pi\n",
    "                bi=bi\n",
    "            elif(sign(f(pi))==sign(f(bi))):\n",
    "                ai=ai\n",
    "                bi=pi\n",
    "        pi=0.5*(ai+bi)\n",
    "        error=abs((pi-pi_previo)/pi)\n",
    "        iteracion=iteracion+1\n",
    "        \n",
    "        print(\"pi=%f\\t ai=%f\\t bi=%f\\t f(pi)=% f\\t error=%f\"%(pi,ai,bi,f(pi),error))\n",
    "        \n",
    "        \n",
    "        if(iteracion>=Nmax):\n",
    "            print(\"Número máximo de iteraciones excedido\")\n",
    "            break\n",
    "else:\n",
    "    print(\"Intérvalo inadecuado\")"
   ]
  },
  {
   "cell_type": "code",
   "execution_count": null,
   "metadata": {
    "collapsed": true
   },
   "outputs": [],
   "source": []
  }
 ],
 "metadata": {
  "kernelspec": {
   "display_name": "Python 3",
   "language": "python",
   "name": "python3"
  },
  "language_info": {
   "codemirror_mode": {
    "name": "ipython",
    "version": 3
   },
   "file_extension": ".py",
   "mimetype": "text/x-python",
   "name": "python",
   "nbconvert_exporter": "python",
   "pygments_lexer": "ipython3",
   "version": "3.6.3"
  }
 },
 "nbformat": 4,
 "nbformat_minor": 2
}
